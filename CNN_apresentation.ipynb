{
  "nbformat": 4,
  "nbformat_minor": 0,
  "metadata": {
    "colab": {
      "name": "CNN-apresentation.ipynb",
      "provenance": [],
      "collapsed_sections": [],
      "toc_visible": true,
      "mount_file_id": "https://github.com/brunoprp/neural-network-apresentation/blob/master/CNN_apresentation.ipynb",
      "authorship_tag": "ABX9TyPly5pVJ7sEKYEKulZOwPt0",
      "include_colab_link": true
    },
    "kernelspec": {
      "name": "python3",
      "display_name": "Python 3"
    },
    "accelerator": "GPU",
    "widgets": {
      "application/vnd.jupyter.widget-state+json": {
        "12188d10c69a413e9eb3f91106b9de1f": {
          "model_module": "@jupyter-widgets/controls",
          "model_name": "HBoxModel",
          "state": {
            "_view_name": "HBoxView",
            "_dom_classes": [],
            "_model_name": "HBoxModel",
            "_view_module": "@jupyter-widgets/controls",
            "_model_module_version": "1.5.0",
            "_view_count": null,
            "_view_module_version": "1.5.0",
            "box_style": "",
            "layout": "IPY_MODEL_9c99eb97fe604b37b88a4d3109377818",
            "_model_module": "@jupyter-widgets/controls",
            "children": [
              "IPY_MODEL_895ceada34b347cfbb26c30eac32f12d",
              "IPY_MODEL_19d57a534d4c410a98a8237f6dc519c6"
            ]
          }
        },
        "9c99eb97fe604b37b88a4d3109377818": {
          "model_module": "@jupyter-widgets/base",
          "model_name": "LayoutModel",
          "state": {
            "_view_name": "LayoutView",
            "grid_template_rows": null,
            "right": null,
            "justify_content": null,
            "_view_module": "@jupyter-widgets/base",
            "overflow": null,
            "_model_module_version": "1.2.0",
            "_view_count": null,
            "flex_flow": null,
            "width": null,
            "min_width": null,
            "border": null,
            "align_items": null,
            "bottom": null,
            "_model_module": "@jupyter-widgets/base",
            "top": null,
            "grid_column": null,
            "overflow_y": null,
            "overflow_x": null,
            "grid_auto_flow": null,
            "grid_area": null,
            "grid_template_columns": null,
            "flex": null,
            "_model_name": "LayoutModel",
            "justify_items": null,
            "grid_row": null,
            "max_height": null,
            "align_content": null,
            "visibility": null,
            "align_self": null,
            "height": null,
            "min_height": null,
            "padding": null,
            "grid_auto_rows": null,
            "grid_gap": null,
            "max_width": null,
            "order": null,
            "_view_module_version": "1.2.0",
            "grid_template_areas": null,
            "object_position": null,
            "object_fit": null,
            "grid_auto_columns": null,
            "margin": null,
            "display": null,
            "left": null
          }
        },
        "895ceada34b347cfbb26c30eac32f12d": {
          "model_module": "@jupyter-widgets/controls",
          "model_name": "IntProgressModel",
          "state": {
            "_view_name": "ProgressView",
            "style": "IPY_MODEL_7d18f94aac6b400f87fbe17eb7b88e7a",
            "_dom_classes": [],
            "description": "  8%",
            "_model_name": "IntProgressModel",
            "bar_style": "",
            "max": 25000,
            "_view_module": "@jupyter-widgets/controls",
            "_model_module_version": "1.5.0",
            "value": 2122,
            "_view_count": null,
            "_view_module_version": "1.5.0",
            "orientation": "horizontal",
            "min": 0,
            "description_tooltip": null,
            "_model_module": "@jupyter-widgets/controls",
            "layout": "IPY_MODEL_9064769446d1498aac1b1ce4275b775a"
          }
        },
        "19d57a534d4c410a98a8237f6dc519c6": {
          "model_module": "@jupyter-widgets/controls",
          "model_name": "HTMLModel",
          "state": {
            "_view_name": "HTMLView",
            "style": "IPY_MODEL_46aff3d9a3ff4f92a258dca1adc076db",
            "_dom_classes": [],
            "description": "",
            "_model_name": "HTMLModel",
            "placeholder": "​",
            "_view_module": "@jupyter-widgets/controls",
            "_model_module_version": "1.5.0",
            "value": " 2122/25000 [30:43&lt;5:29:33,  1.16it/s]",
            "_view_count": null,
            "_view_module_version": "1.5.0",
            "description_tooltip": null,
            "_model_module": "@jupyter-widgets/controls",
            "layout": "IPY_MODEL_17a9f245498c40bb99a848d68b2b4eaf"
          }
        },
        "7d18f94aac6b400f87fbe17eb7b88e7a": {
          "model_module": "@jupyter-widgets/controls",
          "model_name": "ProgressStyleModel",
          "state": {
            "_view_name": "StyleView",
            "_model_name": "ProgressStyleModel",
            "description_width": "initial",
            "_view_module": "@jupyter-widgets/base",
            "_model_module_version": "1.5.0",
            "_view_count": null,
            "_view_module_version": "1.2.0",
            "bar_color": null,
            "_model_module": "@jupyter-widgets/controls"
          }
        },
        "9064769446d1498aac1b1ce4275b775a": {
          "model_module": "@jupyter-widgets/base",
          "model_name": "LayoutModel",
          "state": {
            "_view_name": "LayoutView",
            "grid_template_rows": null,
            "right": null,
            "justify_content": null,
            "_view_module": "@jupyter-widgets/base",
            "overflow": null,
            "_model_module_version": "1.2.0",
            "_view_count": null,
            "flex_flow": null,
            "width": null,
            "min_width": null,
            "border": null,
            "align_items": null,
            "bottom": null,
            "_model_module": "@jupyter-widgets/base",
            "top": null,
            "grid_column": null,
            "overflow_y": null,
            "overflow_x": null,
            "grid_auto_flow": null,
            "grid_area": null,
            "grid_template_columns": null,
            "flex": null,
            "_model_name": "LayoutModel",
            "justify_items": null,
            "grid_row": null,
            "max_height": null,
            "align_content": null,
            "visibility": null,
            "align_self": null,
            "height": null,
            "min_height": null,
            "padding": null,
            "grid_auto_rows": null,
            "grid_gap": null,
            "max_width": null,
            "order": null,
            "_view_module_version": "1.2.0",
            "grid_template_areas": null,
            "object_position": null,
            "object_fit": null,
            "grid_auto_columns": null,
            "margin": null,
            "display": null,
            "left": null
          }
        },
        "46aff3d9a3ff4f92a258dca1adc076db": {
          "model_module": "@jupyter-widgets/controls",
          "model_name": "DescriptionStyleModel",
          "state": {
            "_view_name": "StyleView",
            "_model_name": "DescriptionStyleModel",
            "description_width": "",
            "_view_module": "@jupyter-widgets/base",
            "_model_module_version": "1.5.0",
            "_view_count": null,
            "_view_module_version": "1.2.0",
            "_model_module": "@jupyter-widgets/controls"
          }
        },
        "17a9f245498c40bb99a848d68b2b4eaf": {
          "model_module": "@jupyter-widgets/base",
          "model_name": "LayoutModel",
          "state": {
            "_view_name": "LayoutView",
            "grid_template_rows": null,
            "right": null,
            "justify_content": null,
            "_view_module": "@jupyter-widgets/base",
            "overflow": null,
            "_model_module_version": "1.2.0",
            "_view_count": null,
            "flex_flow": null,
            "width": null,
            "min_width": null,
            "border": null,
            "align_items": null,
            "bottom": null,
            "_model_module": "@jupyter-widgets/base",
            "top": null,
            "grid_column": null,
            "overflow_y": null,
            "overflow_x": null,
            "grid_auto_flow": null,
            "grid_area": null,
            "grid_template_columns": null,
            "flex": null,
            "_model_name": "LayoutModel",
            "justify_items": null,
            "grid_row": null,
            "max_height": null,
            "align_content": null,
            "visibility": null,
            "align_self": null,
            "height": null,
            "min_height": null,
            "padding": null,
            "grid_auto_rows": null,
            "grid_gap": null,
            "max_width": null,
            "order": null,
            "_view_module_version": "1.2.0",
            "grid_template_areas": null,
            "object_position": null,
            "object_fit": null,
            "grid_auto_columns": null,
            "margin": null,
            "display": null,
            "left": null
          }
        }
      }
    }
  },
  "cells": [
    {
      "cell_type": "markdown",
      "metadata": {
        "id": "view-in-github",
        "colab_type": "text"
      },
      "source": [
        "<a href=\"https://colab.research.google.com/github/brunoprp/neural-network-apresentation/blob/master/CNN_apresentation.ipynb\" target=\"_parent\"><img src=\"https://colab.research.google.com/assets/colab-badge.svg\" alt=\"Open In Colab\"/></a>"
      ]
    },
    {
      "cell_type": "code",
      "metadata": {
        "id": "QgV4n3mgx6r8",
        "colab_type": "code",
        "outputId": "3b913e48-491d-4ea1-905a-bd1bdb193844",
        "colab": {
          "base_uri": "https://localhost:8080/",
          "height": 371
        }
      },
      "source": [
        "from IPython.display import Image\n",
        "Image(url= \"https://i0.wp.com/deeplearningbook.com.br/wp-content/uploads/2019/06/dogs_cats.gif?resize=1170%2C658\", width=800, height=350)"
      ],
      "execution_count": 12,
      "outputs": [
        {
          "output_type": "execute_result",
          "data": {
            "text/html": [
              "<img src=\"https://i0.wp.com/deeplearningbook.com.br/wp-content/uploads/2019/06/dogs_cats.gif?resize=1170%2C658\" width=\"800\" height=\"350\"/>"
            ],
            "text/plain": [
              "<IPython.core.display.Image object>"
            ]
          },
          "metadata": {
            "tags": []
          },
          "execution_count": 12
        }
      ]
    },
    {
      "cell_type": "markdown",
      "metadata": {
        "id": "RWT1SOlZfeUs",
        "colab_type": "text"
      },
      "source": [
        "*   # Classificão de imagens de Gatos e Cães\n",
        "*   # Rede Neural Convolucional (CNN)\n",
        "  *   # Tensorflow 2.0 : https://www.tensorflow.org/\n",
        "  *   # Site da base de dados: https://www.kaggle.com/c/dogs-vs-cats \n",
        "\n"
      ]
    },
    {
      "cell_type": "markdown",
      "metadata": {
        "id": "GoPOxchdk_YS",
        "colab_type": "text"
      },
      "source": [
        "#  Analizando o dataset"
      ]
    },
    {
      "cell_type": "code",
      "metadata": {
        "id": "RYFgMqeHdcuq",
        "colab_type": "code",
        "colab": {}
      },
      "source": [
        "#importando as bibliotecas\n",
        "import tensorflow as tf\n",
        "import os\n",
        "from tqdm import tqdm_notebook as tqdm\n",
        "import cv2\n",
        "import numpy as np\n",
        "import matplotlib.pyplot as plt\n",
        "import random"
      ],
      "execution_count": 0,
      "outputs": []
    },
    {
      "cell_type": "code",
      "metadata": {
        "id": "PQzH5D7FkeuW",
        "colab_type": "code",
        "colab": {
          "base_uri": "https://localhost:8080/",
          "height": 119
        },
        "outputId": "5039b414-b210-4b80-80fb-e500c6d082b8"
      },
      "source": [
        "os.listdir('drive/My Drive/dogs-vs-cats-1')"
      ],
      "execution_count": 5,
      "outputs": [
        {
          "output_type": "execute_result",
          "data": {
            "text/plain": [
              "['sampleSubmission.csv',\n",
              " 'test1.zip',\n",
              " 'train.zip',\n",
              " 'test1',\n",
              " '.ipynb_checkpoints',\n",
              " 'train']"
            ]
          },
          "metadata": {
            "tags": []
          },
          "execution_count": 5
        }
      ]
    },
    {
      "cell_type": "code",
      "metadata": {
        "id": "39-Wuoti1WX_",
        "colab_type": "code",
        "outputId": "ec357d94-f793-4f94-caac-08d56491906b",
        "colab": {
          "base_uri": "https://localhost:8080/",
          "height": 303
        }
      },
      "source": [
        "caminho_data = 'drive/My Drive/dogs-vs-cats-1/train/' # Caminho das imagens de cães e gatos\n",
        "data_pasta = os.listdir(caminho_data) # Criando uma lista com o nome das imagens\n",
        "data_pasta = random.sample(data_pasta, len(data_pasta)) # Embaralhar diretorio das imagens\n",
        "for i in range(25):\n",
        "    plt.subplot(5,5,i+1)\n",
        "    plt.xticks([])\n",
        "    plt.yticks([])\n",
        "    plt.grid(True)\n",
        "    img = plt.imread(caminho_data+data_pasta[i]) # Lendo uma imagem do dataset\n",
        "    plt.imshow(img, cmap=plt.cm.binary)\n",
        "plt.show()\n",
        "print(img.shape) # Dimensões da imagem\n",
        "print(len(data_pasta)) # A quantidate de"
      ],
      "execution_count": 8,
      "outputs": [
        {
          "output_type": "stream",
          "text": [
            "(485, 321, 3)\n",
            "25000\n"
          ],
          "name": "stdout"
        },
        {
          "output_type": "display_data",
          "data": {
            "image/png": "[encoded data removed]",
            "text/plain": [
              "<Figure size 432x288 with 1 Axes>"
            ]
          },
          "metadata": {
            "tags": [],
            "needs_background": "light"
          }
        }
      ]
    },
    {
      "cell_type": "markdown",
      "metadata": {
        "id": "qVFop-ERlTWY",
        "colab_type": "text"
      },
      "source": [
        "# Carregando e pré processando a base de dados"
      ]
    },
    {
      "cell_type": "code",
      "metadata": {
        "id": "iXzWil0FncsY",
        "colab_type": "code",
        "outputId": "e011d513-4adc-4ee8-d8c4-9740022eb544",
        "colab": {
          "base_uri": "https://localhost:8080/",
          "height": 120,
          "referenced_widgets": [
            "12188d10c69a413e9eb3f91106b9de1f",
            "9c99eb97fe604b37b88a4d3109377818",
            "895ceada34b347cfbb26c30eac32f12d",
            "19d57a534d4c410a98a8237f6dc519c6",
            "7d18f94aac6b400f87fbe17eb7b88e7a",
            "9064769446d1498aac1b1ce4275b775a",
            "46aff3d9a3ff4f92a258dca1adc076db",
            "17a9f245498c40bb99a848d68b2b4eaf"
          ]
        }
      },
      "source": [
        "x_train = [] # Imagens de treinamento\n",
        "x_test = []  # Imagens de teste\n",
        "y_train = [] # Labels de treinamento\n",
        "y_test = [] # Labels de teste\n",
        "data_pasta = random.sample(data_pasta, len(data_pasta)) # Embaralhar diretorio das imagens\n",
        "cont_train = 0 # controlar o percetual da qunatidade de imagens de treino e teste\n",
        "cont_test = 0\n",
        "img_size = 150\n",
        "for i in tqdm(data_pasta):\n",
        "  nome_img = i.split('.')[0] # Pegando o nome da imagem (cat,dog)\n",
        "  img = cv2.imread(caminho_data+i,0)\n",
        "  img = cv2.resize(img,(img_size,img_size))# \n",
        "  img = img.astype('float32')/255 #\n",
        "  \n",
        "  if cont_train < 2000: # 70% para treino\n",
        "    if (nome_img == \"cat\"): # se nome for cat\n",
        "        x_train.append(img)\n",
        "        y_train.append(0)\n",
        "    else: # se nome for dog\n",
        "        x_train.append(img)\n",
        "        y_train.append(1)\n",
        "    cont_train += 1\n",
        "  \n",
        "  elif cont_test < 600: # 30% para teste\n",
        "      if (nome_img == \"cat\"): # se nome for cat\n",
        "        x_test.append(img)\n",
        "        y_test.append(0)\n",
        "      else: # se nome for dog\n",
        "        x_test.append(img)\n",
        "        y_test.append(1)\n",
        "      cont_test += 1\n",
        "  if cont_train == 2000 and cont_test == 600:  # para a leitura\n",
        "    break\n"
      ],
      "execution_count": 0,
      "outputs": [
        {
          "output_type": "stream",
          "text": [
            "/usr/local/lib/python3.6/dist-packages/ipykernel_launcher.py:9: TqdmDeprecationWarning: This function will be removed in tqdm==5.0.0\n",
            "Please use `tqdm.notebook.tqdm` instead of `tqdm.tqdm_notebook`\n",
            "  if __name__ == '__main__':\n"
          ],
          "name": "stderr"
        },
        {
          "output_type": "display_data",
          "data": {
            "application/vnd.jupyter.widget-view+json": {
              "model_id": "12188d10c69a413e9eb3f91106b9de1f",
              "version_minor": 0,
              "version_major": 2
            },
            "text/plain": [
              "HBox(children=(IntProgress(value=0, max=25000), HTML(value='')))"
            ]
          },
          "metadata": {
            "tags": []
          }
        }
      ]
    },
    {
      "cell_type": "markdown",
      "metadata": {
        "id": "3mzJcv6wnF0V",
        "colab_type": "text"
      },
      "source": [
        "# Criando a arquitetura da CNN"
      ]
    },
    {
      "cell_type": "code",
      "metadata": {
        "id": "GETY-SM-nYKW",
        "colab_type": "code",
        "colab": {}
      },
      "source": [
        "model = tf.keras.models.Sequential() # Definindo um modelo sequencial do Tensorflow\n",
        "input_shape = (img_size,img_size, 1) # Pegando o formado das imagens para a CNN (150, 150, 1)\n",
        "model.add(tf.keras.layers.Conv2D(filters = 32, kernel_size=3, activation = 'relu', input_shape= input_shape)) # Primeira camada de convolução\n",
        "model.add(tf.keras.layers.Conv2D(filters = 32, kernel_size=3, activation = 'relu')) # Segunda camada de convolução\n",
        "model.add(tf.keras.layers.MaxPool2D(pool_size=2, strides =2)) # Camada de Pool\n",
        "\n",
        "model.add(tf.keras.layers.Conv2D(filters = 64, kernel_size=3, activation = 'relu')) # Terceira camada de convolução\n",
        "model.add(tf.keras.layers.Conv2D(filters = 64, kernel_size=3, activation = 'relu')) # Quarta camada de convolução\n",
        "model.add(tf.keras.layers.MaxPool2D(pool_size=2, strides =2)) # Camada de Pool"
      ],
      "execution_count": 0,
      "outputs": []
    },
    {
      "cell_type": "markdown",
      "metadata": {
        "id": "WoiaDRrM1IJe",
        "colab_type": "text"
      },
      "source": [
        "# Covolução 2D"
      ]
    },
    {
      "cell_type": "code",
      "metadata": {
        "id": "RosxMqW-0Okr",
        "colab_type": "code",
        "colab": {
          "base_uri": "https://localhost:8080/",
          "height": 471
        },
        "outputId": "8381206e-3337-49fc-c600-eb2c54da1341"
      },
      "source": [
        "Image(url= \"https://i.pinimg.com/originals/1e/0b/f3/1e0bf3ad7d8ab1f70e42afa07c7c7d0c.gif\", width=600, height=450)"
      ],
      "execution_count": 20,
      "outputs": [
        {
          "output_type": "execute_result",
          "data": {
            "text/html": [
              "<img src=\"https://i.pinimg.com/originals/1e/0b/f3/1e0bf3ad7d8ab1f70e42afa07c7c7d0c.gif\" width=\"600\" height=\"450\"/>"
            ],
            "text/plain": [
              "<IPython.core.display.Image object>"
            ]
          },
          "metadata": {
            "tags": []
          },
          "execution_count": 20
        }
      ]
    },
    {
      "cell_type": "markdown",
      "metadata": {
        "id": "vUzNN7eX1VvZ",
        "colab_type": "text"
      },
      "source": [
        "# Camada de Pool"
      ]
    },
    {
      "cell_type": "code",
      "metadata": {
        "id": "RS-5vu_K1aLx",
        "colab_type": "code",
        "colab": {
          "base_uri": "https://localhost:8080/",
          "height": 371
        },
        "outputId": "e9166242-0ddd-4ddd-86b6-ce5524ee8f82"
      },
      "source": [
        "Image(url= \"https://miro.medium.com/max/1456/1*WvHC5bKyrHa7Wm3ca-pXtg.gif\", width=600, height=350)"
      ],
      "execution_count": 22,
      "outputs": [
        {
          "output_type": "execute_result",
          "data": {
            "text/html": [
              "<img src=\"https://miro.medium.com/max/1456/1*WvHC5bKyrHa7Wm3ca-pXtg.gif\" width=\"600\" height=\"350\"/>"
            ],
            "text/plain": [
              "<IPython.core.display.Image object>"
            ]
          },
          "metadata": {
            "tags": []
          },
          "execution_count": 22
        }
      ]
    },
    {
      "cell_type": "markdown",
      "metadata": {
        "id": "4l7cg6HP2YkI",
        "colab_type": "text"
      },
      "source": [
        "# Camadas de Neurônios"
      ]
    },
    {
      "cell_type": "code",
      "metadata": {
        "id": "8wbdloNa2oYX",
        "colab_type": "code",
        "colab": {}
      },
      "source": [
        "number_class = 2 # Numero de classes\n",
        "model.add(tf.keras.layers.Flatten()) # Camada de Flattem\n",
        "model.add(tf.keras.layers.Dense(units=128, activation='relu')) # Primmeira camada de neurônios\n",
        "model.add(tf.keras.layers.Dropout(0.2)) # Desativando 20% dos neurônios\n",
        "\n",
        "model.add(tf.keras.layers.Dense(units=128, activation='relu')) # Segunda camada de neurônios\n",
        "model.add(tf.keras.layers.Dropout(0.2)) # Desativando 20% dos neurônios\n",
        "\n",
        "model.add(tf.keras.layers.Dense(units=32, activation='relu')) # Terceira camada de neurônios\n",
        "model.add(tf.keras.layers.Dense(units = number_class, activation = 'sigmoid')) # Terceira camada de neurônios\n",
        "model.compile(optimizer = 'adam', loss = 'sparse_categorical_crossentropy', metrics = ['sparse_categorical_accuracy']) # comilando o modelo\n"
      ],
      "execution_count": 0,
      "outputs": []
    },
    {
      "cell_type": "code",
      "metadata": {
        "id": "ue8x1d8n5QxM",
        "colab_type": "code",
        "colab": {
          "base_uri": "https://localhost:8080/",
          "height": 371
        },
        "outputId": "a3bc9d8a-82c2-402a-9fe0-0eec214a672e"
      },
      "source": [
        "Image(url= \"https://miro.medium.com/max/3000/1*BIpRgx5FsEMhr1k2EqBKFg.gif\", width=600, height=350)"
      ],
      "execution_count": 24,
      "outputs": [
        {
          "output_type": "execute_result",
          "data": {
            "text/html": [
              "<img src=\"https://miro.medium.com/max/3000/1*BIpRgx5FsEMhr1k2EqBKFg.gif\" width=\"600\" height=\"350\"/>"
            ],
            "text/plain": [
              "<IPython.core.display.Image object>"
            ]
          },
          "metadata": {
            "tags": []
          },
          "execution_count": 24
        }
      ]
    },
    {
      "cell_type": "markdown",
      "metadata": {
        "id": "NZW3BNtW5koT",
        "colab_type": "text"
      },
      "source": [
        "# Arquitetura da CNN"
      ]
    },
    {
      "cell_type": "code",
      "metadata": {
        "id": "yytVzi1E6aS5",
        "colab_type": "code",
        "colab": {
          "base_uri": "https://localhost:8080/",
          "height": 1000
        },
        "outputId": "6929a21c-e4f5-4503-976a-87851e63d47a"
      },
      "source": [
        "tf.keras.utils.plot_model(\n",
        "    model, to_file='model.png', show_shapes=False, show_layer_names=True,\n",
        "    rankdir='TB', expand_nested=False, dpi=96\n",
        ")"
      ],
      "execution_count": 27,
      "outputs": [
        {
          "output_type": "execute_result",
          "data": {
            "image/png": "[encoded data removed]",
            "text/plain": [
              "<IPython.core.display.Image object>"
            ]
          },
          "metadata": {
            "tags": []
          },
          "execution_count": 27
        }
      ]
    },
    {
      "cell_type": "markdown",
      "metadata": {
        "id": "lPjxejS49_Z0",
        "colab_type": "text"
      },
      "source": [
        "# Formato Tensorflow"
      ]
    },
    {
      "cell_type": "code",
      "metadata": {
        "id": "yXWSigNz7lUs",
        "colab_type": "code",
        "colab": {
          "base_uri": "https://localhost:8080/",
          "height": 163
        },
        "outputId": "cac8a923-9c02-44be-af6b-f92c5af130b0"
      },
      "source": [
        "x_test = images.reshape(x_test.shape[0], img_size, img_size, 1) # Formato de entrada da CNN(,sizeImge,sizeImge,channels)\n",
        "x_train = images.reshape(x_train.shape[0], img_size, simg_sizeizeImg, 1)#CNN input format (x,sizeImge,sizeImge,channels)\n",
        "\n",
        "y_train = tf.keras.utils.to_categorical(y_train, 2)# CNN input format class\n",
        "y_test = tf.keras.utils.to_categorical(y_test, 2)# CNN input format class"
      ],
      "execution_count": 30,
      "outputs": [
        {
          "output_type": "error",
          "ename": "IndexError",
          "evalue": "ignored",
          "traceback": [
            "\u001b[0;31m---------------------------------------------------------------------------\u001b[0m",
            "\u001b[0;31mIndexError\u001b[0m                                Traceback (most recent call last)",
            "\u001b[0;32m<ipython-input-30-3054b75f1ff8>\u001b[0m in \u001b[0;36m<module>\u001b[0;34m()\u001b[0m\n\u001b[0;32m----> 1\u001b[0;31m \u001b[0mx_test\u001b[0m\u001b[0;34m[\u001b[0m\u001b[0;36m0\u001b[0m\u001b[0;34m]\u001b[0m\u001b[0;34m.\u001b[0m\u001b[0mshape\u001b[0m\u001b[0;34m\u001b[0m\u001b[0;34m\u001b[0m\u001b[0m\n\u001b[0m",
            "\u001b[0;31mIndexError\u001b[0m: list index out of range"
          ]
        }
      ]
    },
    {
      "cell_type": "code",
      "metadata": {
        "id": "L_Sgq3sD895O",
        "colab_type": "code",
        "colab": {}
      },
      "source": [
        "x_train.shape[0]"
      ],
      "execution_count": 0,
      "outputs": []
    },
    {
      "cell_type": "markdown",
      "metadata": {
        "id": "1pzwjKOu_Hap",
        "colab_type": "text"
      },
      "source": [
        "# Treinando e testando a CNN"
      ]
    },
    {
      "cell_type": "code",
      "metadata": {
        "id": "lPsM8hV--5WP",
        "colab_type": "code",
        "colab": {}
      },
      "source": [
        "history = model.fit(x_train, y_train, epochs=10, validation_data=(x_test, y_test))"
      ],
      "execution_count": 0,
      "outputs": []
    },
    {
      "cell_type": "markdown",
      "metadata": {
        "id": "1F-rlWa-BpOA",
        "colab_type": "text"
      },
      "source": [
        "# Desemenho de treinamneto"
      ]
    },
    {
      "cell_type": "code",
      "metadata": {
        "id": "8vIv5xoOBv_f",
        "colab_type": "code",
        "colab": {}
      },
      "source": [
        "plt.plot(history.history['accuracy'], label='accuracy')\n",
        "plt.plot(history.history['val_accuracy'], label = 'val_accuracy')\n",
        "plt.xlabel('Epoch')\n",
        "plt.ylabel('Accuracy')\n",
        "plt.style.use('seaborn') # stilo do  grafico\n",
        "plt.ylim([0.5, 1])\n",
        "plt.legend(loc='lower right')\n",
        "\n",
        "test_loss, test_acc = model.evaluate(x_test,  y_test, verbose=2)\n"
      ],
      "execution_count": 0,
      "outputs": []
    },
    {
      "cell_type": "markdown",
      "metadata": {
        "id": "-F3HqlT4-5Bv",
        "colab_type": "text"
      },
      "source": [
        ""
      ]
    }
  ]
}