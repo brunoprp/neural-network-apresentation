{
  "nbformat": 4,
  "nbformat_minor": 0,
  "metadata": {
    "colab": {
      "name": "CNN-apresentation.ipynb",
      "provenance": [],
      "collapsed_sections": [],
      "toc_visible": true,
      "mount_file_id": "https://github.com/brunoprp/neural-network-apresentation/blob/master/CNN_apresentation.ipynb",
      "authorship_tag": "ABX9TyOtEAoMx0NBGGb4kKfgcRvc",
      "include_colab_link": true
    },
    "kernelspec": {
      "name": "python3",
      "display_name": "Python 3"
    },
    "accelerator": "GPU",
    "widgets": {
      "application/vnd.jupyter.widget-state+json": {
        "3301052f5a6d4fb39c886f3c139df742": {
          "model_module": "@jupyter-widgets/controls",
          "model_name": "HBoxModel",
          "state": {
            "_view_name": "HBoxView",
            "_dom_classes": [],
            "_model_name": "HBoxModel",
            "_view_module": "@jupyter-widgets/controls",
            "_model_module_version": "1.5.0",
            "_view_count": null,
            "_view_module_version": "1.5.0",
            "box_style": "",
            "layout": "IPY_MODEL_3ce3c82565784eadac5afb23bc007e49",
            "_model_module": "@jupyter-widgets/controls",
            "children": [
              "IPY_MODEL_c9d508cabce0468393c0201ae6019116",
              "IPY_MODEL_30eb8d096c40400a9eb6e753ef002253"
            ]
          }
        },
        "3ce3c82565784eadac5afb23bc007e49": {
          "model_module": "@jupyter-widgets/base",
          "model_name": "LayoutModel",
          "state": {
            "_view_name": "LayoutView",
            "grid_template_rows": null,
            "right": null,
            "justify_content": null,
            "_view_module": "@jupyter-widgets/base",
            "overflow": null,
            "_model_module_version": "1.2.0",
            "_view_count": null,
            "flex_flow": null,
            "width": null,
            "min_width": null,
            "border": null,
            "align_items": null,
            "bottom": null,
            "_model_module": "@jupyter-widgets/base",
            "top": null,
            "grid_column": null,
            "overflow_y": null,
            "overflow_x": null,
            "grid_auto_flow": null,
            "grid_area": null,
            "grid_template_columns": null,
            "flex": null,
            "_model_name": "LayoutModel",
            "justify_items": null,
            "grid_row": null,
            "max_height": null,
            "align_content": null,
            "visibility": null,
            "align_self": null,
            "height": null,
            "min_height": null,
            "padding": null,
            "grid_auto_rows": null,
            "grid_gap": null,
            "max_width": null,
            "order": null,
            "_view_module_version": "1.2.0",
            "grid_template_areas": null,
            "object_position": null,
            "object_fit": null,
            "grid_auto_columns": null,
            "margin": null,
            "display": null,
            "left": null
          }
        },
        "c9d508cabce0468393c0201ae6019116": {
          "model_module": "@jupyter-widgets/controls",
          "model_name": "IntProgressModel",
          "state": {
            "_view_name": "ProgressView",
            "style": "IPY_MODEL_e12a015084c246b6a73305fffeb6abdb",
            "_dom_classes": [],
            "description": "  7%",
            "_model_name": "IntProgressModel",
            "bar_style": "",
            "max": 25000,
            "_view_module": "@jupyter-widgets/controls",
            "_model_module_version": "1.5.0",
            "value": 1812,
            "_view_count": null,
            "_view_module_version": "1.5.0",
            "orientation": "horizontal",
            "min": 0,
            "description_tooltip": null,
            "_model_module": "@jupyter-widgets/controls",
            "layout": "IPY_MODEL_1bb2caf544c743c6b89230aab25bb40e"
          }
        },
        "30eb8d096c40400a9eb6e753ef002253": {
          "model_module": "@jupyter-widgets/controls",
          "model_name": "HTMLModel",
          "state": {
            "_view_name": "HTMLView",
            "style": "IPY_MODEL_c38f7487d4a24527981770234b3c420d",
            "_dom_classes": [],
            "description": "",
            "_model_name": "HTMLModel",
            "placeholder": "​",
            "_view_module": "@jupyter-widgets/controls",
            "_model_module_version": "1.5.0",
            "value": " 1812/25000 [14:31&lt;3:07:04,  2.07it/s]",
            "_view_count": null,
            "_view_module_version": "1.5.0",
            "description_tooltip": null,
            "_model_module": "@jupyter-widgets/controls",
            "layout": "IPY_MODEL_0efde69b9a354b899704c8a8de364b9b"
          }
        },
        "e12a015084c246b6a73305fffeb6abdb": {
          "model_module": "@jupyter-widgets/controls",
          "model_name": "ProgressStyleModel",
          "state": {
            "_view_name": "StyleView",
            "_model_name": "ProgressStyleModel",
            "description_width": "initial",
            "_view_module": "@jupyter-widgets/base",
            "_model_module_version": "1.5.0",
            "_view_count": null,
            "_view_module_version": "1.2.0",
            "bar_color": null,
            "_model_module": "@jupyter-widgets/controls"
          }
        },
        "1bb2caf544c743c6b89230aab25bb40e": {
          "model_module": "@jupyter-widgets/base",
          "model_name": "LayoutModel",
          "state": {
            "_view_name": "LayoutView",
            "grid_template_rows": null,
            "right": null,
            "justify_content": null,
            "_view_module": "@jupyter-widgets/base",
            "overflow": null,
            "_model_module_version": "1.2.0",
            "_view_count": null,
            "flex_flow": null,
            "width": null,
            "min_width": null,
            "border": null,
            "align_items": null,
            "bottom": null,
            "_model_module": "@jupyter-widgets/base",
            "top": null,
            "grid_column": null,
            "overflow_y": null,
            "overflow_x": null,
            "grid_auto_flow": null,
            "grid_area": null,
            "grid_template_columns": null,
            "flex": null,
            "_model_name": "LayoutModel",
            "justify_items": null,
            "grid_row": null,
            "max_height": null,
            "align_content": null,
            "visibility": null,
            "align_self": null,
            "height": null,
            "min_height": null,
            "padding": null,
            "grid_auto_rows": null,
            "grid_gap": null,
            "max_width": null,
            "order": null,
            "_view_module_version": "1.2.0",
            "grid_template_areas": null,
            "object_position": null,
            "object_fit": null,
            "grid_auto_columns": null,
            "margin": null,
            "display": null,
            "left": null
          }
        },
        "c38f7487d4a24527981770234b3c420d": {
          "model_module": "@jupyter-widgets/controls",
          "model_name": "DescriptionStyleModel",
          "state": {
            "_view_name": "StyleView",
            "_model_name": "DescriptionStyleModel",
            "description_width": "",
            "_view_module": "@jupyter-widgets/base",
            "_model_module_version": "1.5.0",
            "_view_count": null,
            "_view_module_version": "1.2.0",
            "_model_module": "@jupyter-widgets/controls"
          }
        },
        "0efde69b9a354b899704c8a8de364b9b": {
          "model_module": "@jupyter-widgets/base",
          "model_name": "LayoutModel",
          "state": {
            "_view_name": "LayoutView",
            "grid_template_rows": null,
            "right": null,
            "justify_content": null,
            "_view_module": "@jupyter-widgets/base",
            "overflow": null,
            "_model_module_version": "1.2.0",
            "_view_count": null,
            "flex_flow": null,
            "width": null,
            "min_width": null,
            "border": null,
            "align_items": null,
            "bottom": null,
            "_model_module": "@jupyter-widgets/base",
            "top": null,
            "grid_column": null,
            "overflow_y": null,
            "overflow_x": null,
            "grid_auto_flow": null,
            "grid_area": null,
            "grid_template_columns": null,
            "flex": null,
            "_model_name": "LayoutModel",
            "justify_items": null,
            "grid_row": null,
            "max_height": null,
            "align_content": null,
            "visibility": null,
            "align_self": null,
            "height": null,
            "min_height": null,
            "padding": null,
            "grid_auto_rows": null,
            "grid_gap": null,
            "max_width": null,
            "order": null,
            "_view_module_version": "1.2.0",
            "grid_template_areas": null,
            "object_position": null,
            "object_fit": null,
            "grid_auto_columns": null,
            "margin": null,
            "display": null,
            "left": null
          }
        }
      }
    }
  },
  "cells": [
    {
      "cell_type": "markdown",
      "metadata": {
        "id": "view-in-github",
        "colab_type": "text"
      },
      "source": [
        "<a href=\"https://colab.research.google.com/github/brunoprp/neural-network-apresentation/blob/master/CNN_apresentation.ipynb\" target=\"_parent\"><img src=\"https://colab.research.google.com/assets/colab-badge.svg\" alt=\"Open In Colab\"/></a>"
      ]
    },
    {
      "cell_type": "code",
      "metadata": {
        "id": "QgV4n3mgx6r8",
        "colab_type": "code",
        "outputId": "3476869c-84df-4bc9-a514-45c9d8eaa26e",
        "colab": {
          "base_uri": "https://localhost:8080/",
          "height": 371
        }
      },
      "source": [
        "from IPython.display import Image\n",
        "Image(url= \"https://i0.wp.com/deeplearningbook.com.br/wp-content/uploads/2019/06/dogs_cats.gif?resize=1170%2C658\", width=800, height=350)"
      ],
      "execution_count": 1,
      "outputs": [
        {
          "output_type": "execute_result",
          "data": {
            "text/html": [
              "<img src=\"https://i0.wp.com/deeplearningbook.com.br/wp-content/uploads/2019/06/dogs_cats.gif?resize=1170%2C658\" width=\"800\" height=\"350\"/>"
            ],
            "text/plain": [
              "<IPython.core.display.Image object>"
            ]
          },
          "metadata": {
            "tags": []
          },
          "execution_count": 1
        }
      ]
    },
    {
      "cell_type": "markdown",
      "metadata": {
        "id": "RWT1SOlZfeUs",
        "colab_type": "text"
      },
      "source": [
        "*    Classificão de imagens de Gatos e Cães\n",
        "*    Rede Neural Convolucional (CNN)\n",
        "  *    Tensorflow 2.0 : https://www.tensorflow.org/\n",
        "  *    Site da base de dados: https://www.kaggle.com/c/dogs-vs-cats\n",
        "* Artigos\n",
        "  * http://www.scitepress.org/DigitalLibrary/Link.aspx?doi=10.5220/0007404301120119\n",
        "  * http://openaccess.thecvf.com/content_cvpr_2018/html/Zhang_ShuffleNet_An_Extremely_CVPR_2018_paper.html\n",
        "  * https://ieeexplore.ieee.org/abstract/document/7949028\n",
        "\n",
        "\n"
      ]
    },
    {
      "cell_type": "code",
      "metadata": {
        "id": "7f6pXi3y0Xrc",
        "colab_type": "code",
        "outputId": "f86a4216-48d5-4c71-d67b-154ee3272b84",
        "colab": {
          "base_uri": "https://localhost:8080/",
          "height": 421
        }
      },
      "source": [
        "from IPython.display import IFrame, YouTubeVideo\n",
        "YouTubeVideo('WvoLTXIjBYU',width=600, height=400)"
      ],
      "execution_count": 2,
      "outputs": [
        {
          "output_type": "execute_result",
          "data": {
            "text/html": [
              "\n",
              "        <iframe\n",
              "            width=\"600\"\n",
              "            height=\"400\"\n",
              "            src=\"https://www.youtube.com/embed/WvoLTXIjBYU\"\n",
              "            frameborder=\"0\"\n",
              "            allowfullscreen\n",
              "        ></iframe>\n",
              "        "
            ],
            "text/plain": [
              "<IPython.lib.display.YouTubeVideo at 0x7fab75685c88>"
            ],
            "image/jpeg": "[encoded data removed]"
          },
          "metadata": {
            "tags": []
          },
          "execution_count": 2
        }
      ]
    },
    {
      "cell_type": "markdown",
      "metadata": {
        "id": "GoPOxchdk_YS",
        "colab_type": "text"
      },
      "source": [
        "#  Analizando o dataset"
      ]
    },
    {
      "cell_type": "code",
      "metadata": {
        "id": "RYFgMqeHdcuq",
        "colab_type": "code",
        "colab": {}
      },
      "source": [
        "#importando as bibliotecas\n",
        "import tensorflow as tf\n",
        "import os\n",
        "from tqdm import tqdm_notebook as tqdm\n",
        "import cv2\n",
        "import numpy as np\n",
        "import matplotlib.pyplot as plt\n",
        "import random"
      ],
      "execution_count": 0,
      "outputs": []
    },
    {
      "cell_type": "code",
      "metadata": {
        "id": "PQzH5D7FkeuW",
        "colab_type": "code",
        "outputId": "e4338412-2e85-4a22-fadf-d8d2b444e350",
        "colab": {
          "base_uri": "https://localhost:8080/",
          "height": 119
        }
      },
      "source": [
        "os.listdir('drive/My Drive/dogs-vs-cats-1')"
      ],
      "execution_count": 9,
      "outputs": [
        {
          "output_type": "execute_result",
          "data": {
            "text/plain": [
              "['sampleSubmission.csv',\n",
              " 'test1.zip',\n",
              " 'train.zip',\n",
              " 'test1',\n",
              " '.ipynb_checkpoints',\n",
              " 'train']"
            ]
          },
          "metadata": {
            "tags": []
          },
          "execution_count": 9
        }
      ]
    },
    {
      "cell_type": "code",
      "metadata": {
        "id": "39-Wuoti1WX_",
        "colab_type": "code",
        "colab": {}
      },
      "source": [
        "caminho_data = 'drive/My Drive/dogs-vs-cats-1/train/' # Caminho das imagens de cães e gatos\n",
        "data_pasta = os.listdir(caminho_data) # Criando uma lista com o nome das imagens\n",
        "data_pasta = random.sample(data_pasta, len(data_pasta)) # Embaralhar diretorio das imagens\n",
        "plt.figure(figsize=(10,10))\n",
        "for i in range(25):\n",
        "    plt.subplot(5,5,i+1)\n",
        "    plt.xticks([])\n",
        "    plt.yticks([])\n",
        "    plt.grid(True)\n",
        "    img = plt.imread(caminho_data+data_pasta[i]) # Lendo uma imagem do dataset\n",
        "    plt.imshow(img, cmap=plt.cm.binary)\n",
        "plt.show()\n",
        "print(img.shape) # Dimensões da imagem\n",
        "print(len(data_pasta)) # A quantidate de"
      ],
      "execution_count": 0,
      "outputs": []
    },
    {
      "cell_type": "markdown",
      "metadata": {
        "id": "qVFop-ERlTWY",
        "colab_type": "text"
      },
      "source": [
        "# Carregando e pré-processando a base de dados"
      ]
    },
    {
      "cell_type": "code",
      "metadata": {
        "id": "iXzWil0FncsY",
        "colab_type": "code",
        "outputId": "c61bdbfc-db38-4622-9658-3837e05089c0",
        "colab": {
          "base_uri": "https://localhost:8080/",
          "height": 120,
          "referenced_widgets": [
            "3301052f5a6d4fb39c886f3c139df742",
            "3ce3c82565784eadac5afb23bc007e49",
            "c9d508cabce0468393c0201ae6019116",
            "30eb8d096c40400a9eb6e753ef002253",
            "e12a015084c246b6a73305fffeb6abdb",
            "1bb2caf544c743c6b89230aab25bb40e",
            "c38f7487d4a24527981770234b3c420d",
            "0efde69b9a354b899704c8a8de364b9b"
          ]
        }
      },
      "source": [
        "x_train = [] # Imagens de treinamento\n",
        "x_test = []  # Imagens de teste\n",
        "y_train = [] # Labels de treinamento\n",
        "y_test = [] # Labels de teste\n",
        "data_pasta = random.sample(data_pasta, len(data_pasta)) # Embaralhar diretorio das imagens\n",
        "cont_train = 0 # controlar o percetual da qunatidade de imagens de treino e teste\n",
        "cont_test = 0\n",
        "img_size = 150\n",
        "for i in tqdm(data_pasta):\n",
        "  nome_img = i.split('.')[0] # Pegando o nome da imagem (cat,dog)\n",
        "  img = cv2.imread(caminho_data+i)\n",
        "  img = cv2.resize(img,(img_size,img_size))# \n",
        "  img = img.astype('float32')/255 #\n",
        "  \n",
        "  if cont_train < 4000: # 70% para treino\n",
        "    if (nome_img == \"cat\"): # se nome for cat\n",
        "        x_train.append(img)\n",
        "        y_train.append(0)\n",
        "    else: # se nome for dog\n",
        "        x_train.append(img)\n",
        "        y_train.append(1)\n",
        "    cont_train += 1\n",
        "  \n",
        "  elif cont_test < 1200: # 30% para teste\n",
        "      if (nome_img == \"cat\"): # se nome for cat\n",
        "        x_test.append(img)\n",
        "        y_test.append(0)\n",
        "      else: # se nome for dog\n",
        "        x_test.append(img)\n",
        "        y_test.append(1)\n",
        "      cont_test += 1\n",
        "  if cont_train == 4000 and cont_test == 1200:  # para a leitura\n",
        "    break\n"
      ],
      "execution_count": 0,
      "outputs": [
        {
          "output_type": "stream",
          "text": [
            "/usr/local/lib/python3.6/dist-packages/ipykernel_launcher.py:9: TqdmDeprecationWarning: This function will be removed in tqdm==5.0.0\n",
            "Please use `tqdm.notebook.tqdm` instead of `tqdm.tqdm_notebook`\n",
            "  if __name__ == '__main__':\n"
          ],
          "name": "stderr"
        },
        {
          "output_type": "display_data",
          "data": {
            "application/vnd.jupyter.widget-view+json": {
              "model_id": "3301052f5a6d4fb39c886f3c139df742",
              "version_minor": 0,
              "version_major": 2
            },
            "text/plain": [
              "HBox(children=(IntProgress(value=0, max=25000), HTML(value='')))"
            ]
          },
          "metadata": {
            "tags": []
          }
        }
      ]
    },
    {
      "cell_type": "code",
      "metadata": {
        "id": "yY9JqAh0tjjr",
        "colab_type": "code",
        "colab": {}
      },
      "source": [
        ""
      ],
      "execution_count": 0,
      "outputs": []
    },
    {
      "cell_type": "markdown",
      "metadata": {
        "id": "3mzJcv6wnF0V",
        "colab_type": "text"
      },
      "source": [
        "# Criando a arquitetura da CNN"
      ]
    },
    {
      "cell_type": "code",
      "metadata": {
        "id": "GETY-SM-nYKW",
        "colab_type": "code",
        "colab": {}
      },
      "source": [
        "model = tf.keras.models.Sequential() # Definindo um modelo sequencial do Tensorflow\n",
        "input_shape = (img_size,img_size, 3) # Pegando o formado das imagens para a CNN (150, 150, 1)\n",
        "model.add(tf.keras.layers.Conv2D(filters = 16, kernel_size=3, activation = 'relu', input_shape= input_shape)) # Primeira camada de convolução\n",
        "model.add(tf.keras.layers.MaxPool2D(pool_size=2, strides =2)) # Camada de Pool\n",
        "\n",
        "model.add(tf.keras.layers.Conv2D(filters = 32, kernel_size=3, activation = 'relu')) # Segunda camada de convolução\n",
        "model.add(tf.keras.layers.MaxPool2D(pool_size=2, strides =2)) # Camada de Pool\n",
        "\n",
        "model.add(tf.keras.layers.Conv2D(filters = 64, kernel_size=3, activation = 'relu')) # Terceira camada de convolução\n",
        "model.add(tf.keras.layers.MaxPool2D(pool_size=2, strides =2)) # Camada de Pool\n",
        "\n",
        "model.add(tf.keras.layers.Conv2D(filters =128, kernel_size=3, activation = 'relu')) # Quarta camada de convolução\n",
        "model.add(tf.keras.layers.MaxPool2D(pool_size=2, strides =2)) # Camada de Pool"
      ],
      "execution_count": 0,
      "outputs": []
    },
    {
      "cell_type": "markdown",
      "metadata": {
        "id": "WoiaDRrM1IJe",
        "colab_type": "text"
      },
      "source": [
        "# Convolução 2D\n",
        "* Visualiizar Convoluçã https://machinelearningmastery.com/how-to-visualize-filters-and-feature-maps-in-convolutional-neural-networks/"
      ]
    },
    {
      "cell_type": "code",
      "metadata": {
        "id": "RosxMqW-0Okr",
        "colab_type": "code",
        "colab": {}
      },
      "source": [
        "Image(url= \"https://i.pinimg.com/originals/1e/0b/f3/1e0bf3ad7d8ab1f70e42afa07c7c7d0c.gif\", width=600, height=450)"
      ],
      "execution_count": 0,
      "outputs": []
    },
    {
      "cell_type": "markdown",
      "metadata": {
        "id": "vUzNN7eX1VvZ",
        "colab_type": "text"
      },
      "source": [
        "# Camada de Pool\n",
        "  * As redes convolucionais podem incluir camadas de pool locais ou globais para otimizar o cálculo subjacente. As camadas de pool reduzem as dimensões dos dados combinando as saídas de grupos de neurônios em uma camada em um único neurônio na próxima camada. O pool local combina pequenos grupos, normalmente 2 x 2. O pool global atua em todos os neurônios da camada convolucional. Além disso, o pool pode calcular um máximo ou uma média. O pool máximo usa o valor máximo de cada um dos aglomerados de neurônios na camada anterio."
      ]
    },
    {
      "cell_type": "code",
      "metadata": {
        "id": "RS-5vu_K1aLx",
        "colab_type": "code",
        "colab": {}
      },
      "source": [
        "Image(url= \"https://miro.medium.com/max/1456/1*WvHC5bKyrHa7Wm3ca-pXtg.gif\", width=600, height=350)"
      ],
      "execution_count": 0,
      "outputs": []
    },
    {
      "cell_type": "code",
      "metadata": {
        "id": "R2y351SMpR7F",
        "colab_type": "code",
        "colab": {}
      },
      "source": [
        "model.summary()"
      ],
      "execution_count": 0,
      "outputs": []
    },
    {
      "cell_type": "markdown",
      "metadata": {
        "id": "4l7cg6HP2YkI",
        "colab_type": "text"
      },
      "source": [
        "# Camadas de Neurônios\n",
        "  * Camadas totalmente conectadas conectam todos os neurônios de uma camada a todos os neurônios de outra camada. É, em princípio, o mesmo que a rede neural perceptron tradicional de múltiplas camadas (MLP). A matriz achatada passa por uma camada totalmente conectada para classificar as imagens."
      ]
    },
    {
      "cell_type": "code",
      "metadata": {
        "id": "8wbdloNa2oYX",
        "colab_type": "code",
        "colab": {}
      },
      "source": [
        "number_class = 2 # Numero de classes\n",
        "model.add(tf.keras.layers.Flatten()) # Camada de Flattem\n",
        "model.add(tf.keras.layers.Dense(units=128, activation='relu')) # Primmeira camada de neurônios\n",
        "model.add(tf.keras.layers.Dropout(0.2)) # Desativando 20% dos neurônios\n",
        "\n",
        "model.add(tf.keras.layers.Dense(units=128, activation='relu')) # Segunda camada de neurônios\n",
        "model.add(tf.keras.layers.Dropout(0.2)) # Desativando 20% dos neurônios\n",
        "\n",
        "model.add(tf.keras.layers.Dense(units=32, activation='relu')) # Terceira camada de neurônios\n",
        "model.add(tf.keras.layers.Dense(units = number_class, activation = 'sigmoid')) # Terceira camada de neurônios\n",
        "model.compile(optimizer='adam',\n",
        "              loss=tf.keras.losses.binary_crossentropy,\n",
        "              metrics=['accuracy'])"
      ],
      "execution_count": 0,
      "outputs": []
    },
    {
      "cell_type": "code",
      "metadata": {
        "id": "ue8x1d8n5QxM",
        "colab_type": "code",
        "colab": {}
      },
      "source": [
        "Image(url= \"https://miro.medium.com/max/3000/1*BIpRgx5FsEMhr1k2EqBKFg.gif\", width=600, height=350)"
      ],
      "execution_count": 0,
      "outputs": []
    },
    {
      "cell_type": "markdown",
      "metadata": {
        "id": "NZW3BNtW5koT",
        "colab_type": "text"
      },
      "source": [
        "# Arquitetura da CNN"
      ]
    },
    {
      "cell_type": "code",
      "metadata": {
        "id": "yytVzi1E6aS5",
        "colab_type": "code",
        "colab": {}
      },
      "source": [
        "tf.keras.utils.plot_model(\n",
        "    model, to_file='model.png', show_shapes=False, show_layer_names=True,\n",
        "    rankdir='TB', expand_nested=False, dpi=96\n",
        ")"
      ],
      "execution_count": 0,
      "outputs": []
    },
    {
      "cell_type": "markdown",
      "metadata": {
        "id": "lPjxejS49_Z0",
        "colab_type": "text"
      },
      "source": [
        "# Formato Tensorflow"
      ]
    },
    {
      "cell_type": "code",
      "metadata": {
        "id": "yXWSigNz7lUs",
        "colab_type": "code",
        "colab": {}
      },
      "source": [
        "x_test = np.array(x_test)\n",
        "x_train = np.array(x_train)\n",
        "x_test = x_test.reshape(x_test.shape[0], img_size, img_size, 3) # Formato de entrada da CNN(,sizeImge,sizeImge,channels)\n",
        "x_train = x_train.reshape(x_train.shape[0], img_size, img_size, 3)#CNN input format (x,sizeImge,sizeImge,channels)\n",
        "\n",
        "y_train = np.array(y_train)\n",
        "y_test = np.array(y_test)\n",
        "y_train = tf.keras.utils.to_categorical(y_train, 2)# CNN input format class\n",
        "y_test = tf.keras.utils.to_categorical(y_test, 2)# CNN input format class"
      ],
      "execution_count": 0,
      "outputs": []
    },
    {
      "cell_type": "code",
      "metadata": {
        "id": "spkHgtcqnyU6",
        "colab_type": "code",
        "colab": {}
      },
      "source": [
        "x_train.shape"
      ],
      "execution_count": 0,
      "outputs": []
    },
    {
      "cell_type": "markdown",
      "metadata": {
        "id": "1pzwjKOu_Hap",
        "colab_type": "text"
      },
      "source": [
        "# Treinando e testando a CNN"
      ]
    },
    {
      "cell_type": "code",
      "metadata": {
        "id": "lPsM8hV--5WP",
        "colab_type": "code",
        "colab": {}
      },
      "source": [
        "history = model.fit(x_train, y_train, epochs=40,  batch_size=70, validation_data=(x_test, y_test))"
      ],
      "execution_count": 0,
      "outputs": []
    },
    {
      "cell_type": "markdown",
      "metadata": {
        "id": "1F-rlWa-BpOA",
        "colab_type": "text"
      },
      "source": [
        "# Desemenho de treinamneto"
      ]
    },
    {
      "cell_type": "code",
      "metadata": {
        "id": "8vIv5xoOBv_f",
        "colab_type": "code",
        "colab": {}
      },
      "source": [
        "plt.plot(history.history['accuracy'], label='accuracy')\n",
        "plt.plot(history.history['val_accuracy'], label = 'val_accuracy')\n",
        "plt.xlabel('Epoch')\n",
        "plt.ylabel('Accuracy')\n",
        "plt.style.use('seaborn') # stilo do  grafico\n",
        "plt.ylim([0.5, 1])\n",
        "plt.legend(loc='lower right')\n",
        "plt.show()\n",
        "\n",
        "test_loss, test_acc = model.evaluate(x_test,  y_test, verbose=2)\n"
      ],
      "execution_count": 0,
      "outputs": []
    }
  ]
}