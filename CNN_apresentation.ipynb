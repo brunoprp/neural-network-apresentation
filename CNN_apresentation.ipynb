{
  "nbformat": 4,
  "nbformat_minor": 0,
  "metadata": {
    "colab": {
      "name": "CNN-apresentation.ipynb",
      "provenance": [],
      "collapsed_sections": [],
      "mount_file_id": "1qZ2KCqxFX8dX7vhiDAvuO4sE9FqKcnnN",
      "authorship_tag": "ABX9TyMUgpp9punfMG9B2uFy/Rer",
      "include_colab_link": true
    },
    "kernelspec": {
      "name": "python3",
      "display_name": "Python 3"
    },
    "accelerator": "GPU"
  },
  "cells": [
    {
      "cell_type": "markdown",
      "metadata": {
        "id": "view-in-github",
        "colab_type": "text"
      },
      "source": [
        "<a href=\"https://colab.research.google.com/github/brunoprp/neural-network-apresentation/blob/master/CNN_apresentation.ipynb\" target=\"_parent\"><img src=\"https://colab.research.google.com/assets/colab-badge.svg\" alt=\"Open In Colab\"/></a>"
      ]
    },
    {
      "cell_type": "code",
      "metadata": {
        "id": "QgV4n3mgx6r8",
        "colab_type": "code",
        "colab": {}
      },
      "source": [
        "import tensorflow\n",
        "import os"
      ],
      "execution_count": 0,
      "outputs": []
    },
    {
      "cell_type": "code",
      "metadata": {
        "id": "pM9vLk5iy5fb",
        "colab_type": "code",
        "colab": {
          "base_uri": "https://localhost:8080/",
          "height": 34
        },
        "outputId": "2c85cf3b-3024-450e-bc0c-81b0a77b0f31"
      },
      "source": [
        "print(os.listdir(\"drive/My Drive/dogs-vs-cats\"))"
      ],
      "execution_count": 12,
      "outputs": [
        {
          "output_type": "stream",
          "text": [
            "['sampleSubmission.csv', 'test1.zip', 'train.zip']\n"
          ],
          "name": "stdout"
        }
      ]
    },
    {
      "cell_type": "code",
      "metadata": {
        "id": "dXTyMXee1h-5",
        "colab_type": "code",
        "colab": {
          "base_uri": "https://localhost:8080/",
          "height": 1000
        },
        "outputId": "7fbabc4f-3e9c-46df-c685-a04dfb81a851"
      },
      "source": [
        "!apt-get install inxi"
      ],
      "execution_count": 1,
      "outputs": [
        {
          "output_type": "stream",
          "text": [
            "Reading package lists... Done\n",
            "Building dependency tree       \n",
            "Reading state information... Done\n",
            "The following additional packages will be installed:\n",
            "  dmidecode file gawk hddtemp iproute2 libatm1 libmagic-mgc libmagic1 libmnl0\n",
            "  libpci3 libsigsegv2 libxtables12 libxxf86dga1 lm-sensors mesa-utils\n",
            "  net-tools pciutils usbutils x11-utils x11-xserver-utils\n",
            "Suggested packages:\n",
            "  gawk-doc iproute2-doc fancontrol read-edid i2c-tools nickle cairo-5c\n",
            "  xorg-docs-core\n",
            "The following NEW packages will be installed:\n",
            "  dmidecode file gawk hddtemp inxi iproute2 libatm1 libmagic-mgc libmagic1\n",
            "  libmnl0 libpci3 libsigsegv2 libxtables12 libxxf86dga1 lm-sensors mesa-utils\n",
            "  net-tools pciutils usbutils x11-utils x11-xserver-utils\n",
            "0 upgraded, 21 newly installed, 0 to remove and 25 not upgraded.\n",
            "Need to get 2,888 kB of archives.\n",
            "After this operation, 15.0 MB of additional disk space will be used.\n",
            "Get:1 http://archive.ubuntu.com/ubuntu bionic/main amd64 libsigsegv2 amd64 2.12-1 [14.7 kB]\n",
            "Get:2 http://archive.ubuntu.com/ubuntu bionic/main amd64 gawk amd64 1:4.1.4+dfsg-1build1 [401 kB]\n",
            "Get:3 http://archive.ubuntu.com/ubuntu bionic/main amd64 libxxf86dga1 amd64 2:1.1.4-1 [13.7 kB]\n",
            "Get:4 http://archive.ubuntu.com/ubuntu bionic-updates/main amd64 libmagic-mgc amd64 1:5.32-2ubuntu0.3 [184 kB]\n",
            "Get:5 http://archive.ubuntu.com/ubuntu bionic-updates/main amd64 libmagic1 amd64 1:5.32-2ubuntu0.3 [68.7 kB]\n",
            "Get:6 http://archive.ubuntu.com/ubuntu bionic-updates/main amd64 file amd64 1:5.32-2ubuntu0.3 [22.1 kB]\n",
            "Get:7 http://archive.ubuntu.com/ubuntu bionic/main amd64 libmnl0 amd64 1.0.4-2 [12.3 kB]\n",
            "Get:8 http://archive.ubuntu.com/ubuntu bionic/main amd64 iproute2 amd64 4.15.0-2ubuntu1 [721 kB]\n",
            "Get:9 http://archive.ubuntu.com/ubuntu bionic/main amd64 libatm1 amd64 1:2.5.1-2build1 [21.9 kB]\n",
            "Get:10 http://archive.ubuntu.com/ubuntu bionic/main amd64 libxtables12 amd64 1.6.1-2ubuntu2 [27.9 kB]\n",
            "Get:11 http://archive.ubuntu.com/ubuntu bionic-updates/main amd64 dmidecode amd64 3.1-1ubuntu0.1 [50.9 kB]\n",
            "Get:12 http://archive.ubuntu.com/ubuntu bionic-updates/main amd64 libpci3 amd64 1:3.5.2-1ubuntu1.1 [24.1 kB]\n",
            "Get:13 http://archive.ubuntu.com/ubuntu bionic-updates/main amd64 pciutils amd64 1:3.5.2-1ubuntu1.1 [257 kB]\n",
            "Get:14 http://archive.ubuntu.com/ubuntu bionic/main amd64 usbutils amd64 1:007-4build1 [208 kB]\n",
            "Get:15 http://archive.ubuntu.com/ubuntu bionic/main amd64 net-tools amd64 1.60+git20161116.90da8a0-1ubuntu1 [194 kB]\n",
            "Get:16 http://archive.ubuntu.com/ubuntu bionic/main amd64 x11-utils amd64 7.7+3build1 [196 kB]\n",
            "Get:17 http://archive.ubuntu.com/ubuntu bionic/main amd64 x11-xserver-utils amd64 7.7+7build1 [159 kB]\n",
            "Get:18 http://archive.ubuntu.com/ubuntu bionic/universe amd64 hddtemp amd64 0.3-beta15-53 [47.7 kB]\n",
            "Get:19 http://archive.ubuntu.com/ubuntu bionic/universe amd64 inxi all 2.3.56-1 [143 kB]\n",
            "Get:20 http://archive.ubuntu.com/ubuntu bionic/universe amd64 lm-sensors amd64 1:3.4.0-4 [85.5 kB]\n",
            "Get:21 http://archive.ubuntu.com/ubuntu bionic/universe amd64 mesa-utils amd64 8.4.0-1 [34.3 kB]\n",
            "Fetched 2,888 kB in 2s (1,872 kB/s)\n",
            "Preconfiguring packages ...\n",
            "Selecting previously unselected package libsigsegv2:amd64.\n",
            "(Reading database ... 144568 files and directories currently installed.)\n",
            "Preparing to unpack .../libsigsegv2_2.12-1_amd64.deb ...\n",
            "Unpacking libsigsegv2:amd64 (2.12-1) ...\n",
            "Setting up libsigsegv2:amd64 (2.12-1) ...\n",
            "Selecting previously unselected package gawk.\n",
            "(Reading database ... 144575 files and directories currently installed.)\n",
            "Preparing to unpack .../00-gawk_1%3a4.1.4+dfsg-1build1_amd64.deb ...\n",
            "Unpacking gawk (1:4.1.4+dfsg-1build1) ...\n",
            "Selecting previously unselected package libxxf86dga1:amd64.\n",
            "Preparing to unpack .../01-libxxf86dga1_2%3a1.1.4-1_amd64.deb ...\n",
            "Unpacking libxxf86dga1:amd64 (2:1.1.4-1) ...\n",
            "Selecting previously unselected package libmagic-mgc.\n",
            "Preparing to unpack .../02-libmagic-mgc_1%3a5.32-2ubuntu0.3_amd64.deb ...\n",
            "Unpacking libmagic-mgc (1:5.32-2ubuntu0.3) ...\n",
            "Selecting previously unselected package libmagic1:amd64.\n",
            "Preparing to unpack .../03-libmagic1_1%3a5.32-2ubuntu0.3_amd64.deb ...\n",
            "Unpacking libmagic1:amd64 (1:5.32-2ubuntu0.3) ...\n",
            "Selecting previously unselected package file.\n",
            "Preparing to unpack .../04-file_1%3a5.32-2ubuntu0.3_amd64.deb ...\n",
            "Unpacking file (1:5.32-2ubuntu0.3) ...\n",
            "Selecting previously unselected package libmnl0:amd64.\n",
            "Preparing to unpack .../05-libmnl0_1.0.4-2_amd64.deb ...\n",
            "Unpacking libmnl0:amd64 (1.0.4-2) ...\n",
            "Selecting previously unselected package iproute2.\n",
            "Preparing to unpack .../06-iproute2_4.15.0-2ubuntu1_amd64.deb ...\n",
            "Unpacking iproute2 (4.15.0-2ubuntu1) ...\n",
            "Selecting previously unselected package libatm1:amd64.\n",
            "Preparing to unpack .../07-libatm1_1%3a2.5.1-2build1_amd64.deb ...\n",
            "Unpacking libatm1:amd64 (1:2.5.1-2build1) ...\n",
            "Selecting previously unselected package libxtables12:amd64.\n",
            "Preparing to unpack .../08-libxtables12_1.6.1-2ubuntu2_amd64.deb ...\n",
            "Unpacking libxtables12:amd64 (1.6.1-2ubuntu2) ...\n",
            "Selecting previously unselected package dmidecode.\n",
            "Preparing to unpack .../09-dmidecode_3.1-1ubuntu0.1_amd64.deb ...\n",
            "Unpacking dmidecode (3.1-1ubuntu0.1) ...\n",
            "Selecting previously unselected package libpci3:amd64.\n",
            "Preparing to unpack .../10-libpci3_1%3a3.5.2-1ubuntu1.1_amd64.deb ...\n",
            "Unpacking libpci3:amd64 (1:3.5.2-1ubuntu1.1) ...\n",
            "Selecting previously unselected package pciutils.\n",
            "Preparing to unpack .../11-pciutils_1%3a3.5.2-1ubuntu1.1_amd64.deb ...\n",
            "Unpacking pciutils (1:3.5.2-1ubuntu1.1) ...\n",
            "Selecting previously unselected package usbutils.\n",
            "Preparing to unpack .../12-usbutils_1%3a007-4build1_amd64.deb ...\n",
            "Unpacking usbutils (1:007-4build1) ...\n",
            "Selecting previously unselected package net-tools.\n",
            "Preparing to unpack .../13-net-tools_1.60+git20161116.90da8a0-1ubuntu1_amd64.deb ...\n",
            "Unpacking net-tools (1.60+git20161116.90da8a0-1ubuntu1) ...\n",
            "Selecting previously unselected package x11-utils.\n",
            "Preparing to unpack .../14-x11-utils_7.7+3build1_amd64.deb ...\n",
            "Unpacking x11-utils (7.7+3build1) ...\n",
            "Selecting previously unselected package x11-xserver-utils.\n",
            "Preparing to unpack .../15-x11-xserver-utils_7.7+7build1_amd64.deb ...\n",
            "Unpacking x11-xserver-utils (7.7+7build1) ...\n",
            "Selecting previously unselected package hddtemp.\n",
            "Preparing to unpack .../16-hddtemp_0.3-beta15-53_amd64.deb ...\n",
            "Unpacking hddtemp (0.3-beta15-53) ...\n",
            "Selecting previously unselected package inxi.\n",
            "Preparing to unpack .../17-inxi_2.3.56-1_all.deb ...\n",
            "Unpacking inxi (2.3.56-1) ...\n",
            "Selecting previously unselected package lm-sensors.\n",
            "Preparing to unpack .../18-lm-sensors_1%3a3.4.0-4_amd64.deb ...\n",
            "Unpacking lm-sensors (1:3.4.0-4) ...\n",
            "Selecting previously unselected package mesa-utils.\n",
            "Preparing to unpack .../19-mesa-utils_8.4.0-1_amd64.deb ...\n",
            "Unpacking mesa-utils (8.4.0-1) ...\n",
            "Setting up hddtemp (0.3-beta15-53) ...\n",
            "invoke-rc.d: could not determine current runlevel\n",
            "invoke-rc.d: policy-rc.d denied execution of start.\n",
            "Setting up dmidecode (3.1-1ubuntu0.1) ...\n",
            "Setting up gawk (1:4.1.4+dfsg-1build1) ...\n",
            "Setting up usbutils (1:007-4build1) ...\n",
            "Setting up libmagic-mgc (1:5.32-2ubuntu0.3) ...\n",
            "Setting up libmagic1:amd64 (1:5.32-2ubuntu0.3) ...\n",
            "Setting up libxxf86dga1:amd64 (2:1.1.4-1) ...\n",
            "Setting up libatm1:amd64 (1:2.5.1-2build1) ...\n",
            "Setting up libxtables12:amd64 (1.6.1-2ubuntu2) ...\n",
            "Setting up lm-sensors (1:3.4.0-4) ...\n",
            "Created symlink /etc/systemd/system/multi-user.target.wants/lm-sensors.service → /lib/systemd/system/lm-sensors.service.\n",
            "Setting up x11-xserver-utils (7.7+7build1) ...\n",
            "Setting up libpci3:amd64 (1:3.5.2-1ubuntu1.1) ...\n",
            "Setting up net-tools (1.60+git20161116.90da8a0-1ubuntu1) ...\n",
            "Setting up libmnl0:amd64 (1.0.4-2) ...\n",
            "Setting up mesa-utils (8.4.0-1) ...\n",
            "Setting up x11-utils (7.7+3build1) ...\n",
            "Setting up file (1:5.32-2ubuntu0.3) ...\n",
            "Setting up iproute2 (4.15.0-2ubuntu1) ...\n",
            "Setting up pciutils (1:3.5.2-1ubuntu1.1) ...\n",
            "Setting up inxi (2.3.56-1) ...\n",
            "Processing triggers for man-db (2.8.3-2ubuntu0.1) ...\n",
            "Processing triggers for libc-bin (2.27-3ubuntu1) ...\n",
            "/sbin/ldconfig.real: /usr/local/lib/python3.6/dist-packages/ideep4py/lib/libmkldnn.so.0 is not a symbolic link\n",
            "\n",
            "Processing triggers for systemd (237-3ubuntu10.39) ...\n"
          ],
          "name": "stdout"
        }
      ]
    },
    {
      "cell_type": "code",
      "metadata": {
        "id": "d8FwDwpP0n-w",
        "colab_type": "code",
        "colab": {
          "base_uri": "https://localhost:8080/",
          "height": 360
        },
        "outputId": "00a73c70-70e7-4a94-8b98-1c7be1c93a3e"
      },
      "source": [
        "!inxi -F"
      ],
      "execution_count": 2,
      "outputs": [
        {
          "output_type": "stream",
          "text": [
            "\u001b[1;34mSystem:   \u001b[0;37m \u001b[1;34mHost:\u001b[0;37m 65085f92a1cd \u001b[1;34mKernel:\u001b[0;37m 4.19.104+ x86_64 \u001b[1;34mbits:\u001b[0;37m 64\u001b[0;37m\n",
            "\u001b[1;34m          \u001b[0;37m \u001b[1;34mConsole:\u001b[0;37m tty 0 \u001b[1;34mDistro:\u001b[0;37m Ubuntu 18.04.3 LTS\u001b[0;37m\n",
            "\u001b[1;34mMachine:  \u001b[0;37m \u001b[1;34mDevice:\u001b[0;37m docker \u001b[1;34mMobo:\u001b[0;37m Google \u001b[1;34mmodel:\u001b[0;37m Google Compute Engine \u001b[1;34mserial:\u001b[0;37m Board-GoogleCloud-648407EC5A514F05924781AF71F856C0\u001b[0;37m\n",
            "\u001b[1;34m          \u001b[0;37m \u001b[1;34mBIOS:\u001b[0;37m Google \u001b[1;34mv:\u001b[0;37m Google \u001b[1;34mdate:\u001b[0;37m 01/01/2011\u001b[0;37m\n",
            "\u001b[1;34mBattery   \u001b[0;37m \u001b[0;37mUsing dmidecode: unknown error occurred\u001b[0;37m\n",
            "\u001b[1;34mCPU:      \u001b[0;37m \u001b[1;34mSingle core\u001b[0;37m Intel Xeon (-MT-) \u001b[0;37m\u001b[1;34mcache:\u001b[0;37m 56320 KB\u001b[0;37m\n",
            "\u001b[1;34m          \u001b[0;37m \u001b[1;34mclock speeds:\u001b[0;37m \u001b[1;34mmax:\u001b[0;37m 2200 MHz \u001b[1;34m1:\u001b[0;37m 2200 MHz \u001b[1;34m2:\u001b[0;37m 2200 MHz\u001b[0;37m\n",
            "\u001b[1;34mGraphics: \u001b[0;37m \u001b[1;34mCard:\u001b[0;37m NVIDIA GK210GL [Tesla K80]\u001b[0;37m\n",
            "\u001b[1;34m          \u001b[0;37m \u001b[1;34mDisplay Server:\u001b[0;37m X.org 1.20.5 \u001b[1;34mdriver:\u001b[0;37m nvidia\u001b[0;37m\n",
            "\u001b[1;34m          \u001b[0;37m \u001b[1;34mtty size:\u001b[0;37m 0x0 \u001b[1;34mAdvanced Data:\u001b[0;37m N/A for root out of X\u001b[0;37m\n",
            "\u001b[1;34mNetwork:  \u001b[0;37m \u001b[1;34mCard:\u001b[0;37m Red Hat Virtio network device \u001b[1;34mdriver:\u001b[0;37m virtio-pci\u001b[0;37m\n",
            "\u001b[1;34m          \u001b[0;37m \u001b[1;34mIF:\u001b[0;37m N/A \u001b[1;34mstate:\u001b[0;37m N/A \u001b[1;34mspeed:\u001b[0;37m N/A \u001b[1;34mduplex:\u001b[0;37m N/A \u001b[1;34mmac:\u001b[0;37m N/A\u001b[0;37m\n",
            "\u001b[1;34mDrives:   \u001b[0;37m \u001b[1;34mHDD Total Size:\u001b[0;37m 85.9GB (40.5% used)\u001b[0;37m\n",
            "\u001b[1;34m          \u001b[0;37m \u001b[1;34mID-1:\u001b[0;37m /dev/sda \u001b[1;34mmodel:\u001b[0;37m PersistentDisk \u001b[1;34msize:\u001b[0;37m 85.9GB\u001b[0;37m\n",
            "\u001b[1;34mPartition:\u001b[0;37m \u001b[1;34mID-1:\u001b[0;37m / \u001b[1;34msize:\u001b[0;37m 69G \u001b[1;34mused:\u001b[0;37m 32G (49%) \u001b[1;34mfs:\u001b[0;37m overlay \u001b[1;34mdev:\u001b[0;37m N/A\u001b[0;37m\n",
            "\u001b[1;34mRAID:     \u001b[0;37m No RAID devices: /proc/mdstat, md_mod kernel module present\u001b[0;37m\n",
            "\u001b[1;34mSensors:  \u001b[0;37m None detected - is lm-sensors installed and configured?\u001b[0;37m\n",
            "\u001b[1;34mInfo:     \u001b[0;37m \u001b[1;34mProcesses:\u001b[0;37m 16 \u001b[1;34mUptime:\u001b[0;37m 24 min \u001b[1;34mMemory:\u001b[0;37m 770.6/13021.1MB \u001b[1;34mInit:\u001b[0;37m N/A\u001b[0;37m\n",
            "\u001b[1;34m          \u001b[0;37m \u001b[1;34mClient:\u001b[0;37m Shell (python3) \u001b[1;34minxi:\u001b[0;37m 2.3.56\u001b[0;37m \u001b[0;37m\n",
            "\u001b[0m"
          ],
          "name": "stdout"
        }
      ]
    },
    {
      "cell_type": "code",
      "metadata": {
        "id": "39-Wuoti1WX_",
        "colab_type": "code",
        "colab": {}
      },
      "source": [
        ""
      ],
      "execution_count": 0,
      "outputs": []
    }
  ]
}