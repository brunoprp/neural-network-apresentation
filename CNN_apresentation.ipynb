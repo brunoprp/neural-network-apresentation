{
  "nbformat": 4,
  "nbformat_minor": 0,
  "metadata": {
    "colab": {
      "name": "CNN-apresentation.ipynb",
      "provenance": [],
      "collapsed_sections": [],
      "toc_visible": true,
      "mount_file_id": "https://github.com/brunoprp/neural-network-apresentation/blob/master/CNN_apresentation.ipynb",
      "authorship_tag": "ABX9TyPgn4CABEt24LlZ1wJOMn+v",
      "include_colab_link": true
    },
    "kernelspec": {
      "name": "python3",
      "display_name": "Python 3"
    },
    "accelerator": "GPU",
    "widgets": {
      "application/vnd.jupyter.widget-state+json": {
        "4ebff570a8a343a7aed0660d764cbf97": {
          "model_module": "@jupyter-widgets/controls",
          "model_name": "HBoxModel",
          "state": {
            "_view_name": "HBoxView",
            "_dom_classes": [],
            "_model_name": "HBoxModel",
            "_view_module": "@jupyter-widgets/controls",
            "_model_module_version": "1.5.0",
            "_view_count": null,
            "_view_module_version": "1.5.0",
            "box_style": "",
            "layout": "IPY_MODEL_2428ad8553f049c08cf6a5d6b3562f0d",
            "_model_module": "@jupyter-widgets/controls",
            "children": [
              "IPY_MODEL_1054600cb192465d9ece7be7d61344c1",
              "IPY_MODEL_da1b5864b775476aa99b70e6a674519f"
            ]
          }
        },
        "2428ad8553f049c08cf6a5d6b3562f0d": {
          "model_module": "@jupyter-widgets/base",
          "model_name": "LayoutModel",
          "state": {
            "_view_name": "LayoutView",
            "grid_template_rows": null,
            "right": null,
            "justify_content": null,
            "_view_module": "@jupyter-widgets/base",
            "overflow": null,
            "_model_module_version": "1.2.0",
            "_view_count": null,
            "flex_flow": null,
            "width": null,
            "min_width": null,
            "border": null,
            "align_items": null,
            "bottom": null,
            "_model_module": "@jupyter-widgets/base",
            "top": null,
            "grid_column": null,
            "overflow_y": null,
            "overflow_x": null,
            "grid_auto_flow": null,
            "grid_area": null,
            "grid_template_columns": null,
            "flex": null,
            "_model_name": "LayoutModel",
            "justify_items": null,
            "grid_row": null,
            "max_height": null,
            "align_content": null,
            "visibility": null,
            "align_self": null,
            "height": null,
            "min_height": null,
            "padding": null,
            "grid_auto_rows": null,
            "grid_gap": null,
            "max_width": null,
            "order": null,
            "_view_module_version": "1.2.0",
            "grid_template_areas": null,
            "object_position": null,
            "object_fit": null,
            "grid_auto_columns": null,
            "margin": null,
            "display": null,
            "left": null
          }
        },
        "1054600cb192465d9ece7be7d61344c1": {
          "model_module": "@jupyter-widgets/controls",
          "model_name": "IntProgressModel",
          "state": {
            "_view_name": "ProgressView",
            "style": "IPY_MODEL_dc3fbefb0f754b2aa67815c3ab332a32",
            "_dom_classes": [],
            "description": " 10%",
            "_model_name": "IntProgressModel",
            "bar_style": "danger",
            "max": 25000,
            "_view_module": "@jupyter-widgets/controls",
            "_model_module_version": "1.5.0",
            "value": 2599,
            "_view_count": null,
            "_view_module_version": "1.5.0",
            "orientation": "horizontal",
            "min": 0,
            "description_tooltip": null,
            "_model_module": "@jupyter-widgets/controls",
            "layout": "IPY_MODEL_87f343bd31414cd3937eb6ff749e73a8"
          }
        },
        "da1b5864b775476aa99b70e6a674519f": {
          "model_module": "@jupyter-widgets/controls",
          "model_name": "HTMLModel",
          "state": {
            "_view_name": "HTMLView",
            "style": "IPY_MODEL_bdc3fb9b10f142e5914d9c430cf1b683",
            "_dom_classes": [],
            "description": "",
            "_model_name": "HTMLModel",
            "placeholder": "​",
            "_view_module": "@jupyter-widgets/controls",
            "_model_module_version": "1.5.0",
            "value": " 2599/25000 [42:01&lt;5:37:49,  1.11it/s]",
            "_view_count": null,
            "_view_module_version": "1.5.0",
            "description_tooltip": null,
            "_model_module": "@jupyter-widgets/controls",
            "layout": "IPY_MODEL_0ee0f6bf59944a94bd1178a7f1698006"
          }
        },
        "dc3fbefb0f754b2aa67815c3ab332a32": {
          "model_module": "@jupyter-widgets/controls",
          "model_name": "ProgressStyleModel",
          "state": {
            "_view_name": "StyleView",
            "_model_name": "ProgressStyleModel",
            "description_width": "initial",
            "_view_module": "@jupyter-widgets/base",
            "_model_module_version": "1.5.0",
            "_view_count": null,
            "_view_module_version": "1.2.0",
            "bar_color": null,
            "_model_module": "@jupyter-widgets/controls"
          }
        },
        "87f343bd31414cd3937eb6ff749e73a8": {
          "model_module": "@jupyter-widgets/base",
          "model_name": "LayoutModel",
          "state": {
            "_view_name": "LayoutView",
            "grid_template_rows": null,
            "right": null,
            "justify_content": null,
            "_view_module": "@jupyter-widgets/base",
            "overflow": null,
            "_model_module_version": "1.2.0",
            "_view_count": null,
            "flex_flow": null,
            "width": null,
            "min_width": null,
            "border": null,
            "align_items": null,
            "bottom": null,
            "_model_module": "@jupyter-widgets/base",
            "top": null,
            "grid_column": null,
            "overflow_y": null,
            "overflow_x": null,
            "grid_auto_flow": null,
            "grid_area": null,
            "grid_template_columns": null,
            "flex": null,
            "_model_name": "LayoutModel",
            "justify_items": null,
            "grid_row": null,
            "max_height": null,
            "align_content": null,
            "visibility": null,
            "align_self": null,
            "height": null,
            "min_height": null,
            "padding": null,
            "grid_auto_rows": null,
            "grid_gap": null,
            "max_width": null,
            "order": null,
            "_view_module_version": "1.2.0",
            "grid_template_areas": null,
            "object_position": null,
            "object_fit": null,
            "grid_auto_columns": null,
            "margin": null,
            "display": null,
            "left": null
          }
        },
        "bdc3fb9b10f142e5914d9c430cf1b683": {
          "model_module": "@jupyter-widgets/controls",
          "model_name": "DescriptionStyleModel",
          "state": {
            "_view_name": "StyleView",
            "_model_name": "DescriptionStyleModel",
            "description_width": "",
            "_view_module": "@jupyter-widgets/base",
            "_model_module_version": "1.5.0",
            "_view_count": null,
            "_view_module_version": "1.2.0",
            "_model_module": "@jupyter-widgets/controls"
          }
        },
        "0ee0f6bf59944a94bd1178a7f1698006": {
          "model_module": "@jupyter-widgets/base",
          "model_name": "LayoutModel",
          "state": {
            "_view_name": "LayoutView",
            "grid_template_rows": null,
            "right": null,
            "justify_content": null,
            "_view_module": "@jupyter-widgets/base",
            "overflow": null,
            "_model_module_version": "1.2.0",
            "_view_count": null,
            "flex_flow": null,
            "width": null,
            "min_width": null,
            "border": null,
            "align_items": null,
            "bottom": null,
            "_model_module": "@jupyter-widgets/base",
            "top": null,
            "grid_column": null,
            "overflow_y": null,
            "overflow_x": null,
            "grid_auto_flow": null,
            "grid_area": null,
            "grid_template_columns": null,
            "flex": null,
            "_model_name": "LayoutModel",
            "justify_items": null,
            "grid_row": null,
            "max_height": null,
            "align_content": null,
            "visibility": null,
            "align_self": null,
            "height": null,
            "min_height": null,
            "padding": null,
            "grid_auto_rows": null,
            "grid_gap": null,
            "max_width": null,
            "order": null,
            "_view_module_version": "1.2.0",
            "grid_template_areas": null,
            "object_position": null,
            "object_fit": null,
            "grid_auto_columns": null,
            "margin": null,
            "display": null,
            "left": null
          }
        }
      }
    }
  },
  "cells": [
    {
      "cell_type": "markdown",
      "metadata": {
        "id": "view-in-github",
        "colab_type": "text"
      },
      "source": [
        "<a href=\"https://colab.research.google.com/github/brunoprp/neural-network-apresentation/blob/master/CNN_apresentation.ipynb\" target=\"_parent\"><img src=\"https://colab.research.google.com/assets/colab-badge.svg\" alt=\"Open In Colab\"/></a>"
      ]
    },
    {
      "cell_type": "code",
      "metadata": {
        "id": "QgV4n3mgx6r8",
        "colab_type": "code",
        "outputId": "3b913e48-491d-4ea1-905a-bd1bdb193844",
        "colab": {
          "base_uri": "https://localhost:8080/",
          "height": 371
        }
      },
      "source": [
        "from IPython.display import Image\n",
        "Image(url= \"https://i0.wp.com/deeplearningbook.com.br/wp-content/uploads/2019/06/dogs_cats.gif?resize=1170%2C658\", width=800, height=350)"
      ],
      "execution_count": 12,
      "outputs": [
        {
          "output_type": "execute_result",
          "data": {
            "text/html": [
              "<img src=\"https://i0.wp.com/deeplearningbook.com.br/wp-content/uploads/2019/06/dogs_cats.gif?resize=1170%2C658\" width=\"800\" height=\"350\"/>"
            ],
            "text/plain": [
              "<IPython.core.display.Image object>"
            ]
          },
          "metadata": {
            "tags": []
          },
          "execution_count": 12
        }
      ]
    },
    {
      "cell_type": "markdown",
      "metadata": {
        "id": "RWT1SOlZfeUs",
        "colab_type": "text"
      },
      "source": [
        "*   # Classificão de imagens de Gatos e Cães\n",
        "*   # Rede Neural Convolucional (CNN)\n",
        "  *   # Tensorflow 2.0\n",
        "  *   # Site da base de dados: https://www.kaggle.com/c/dogs-vs-cats \n",
        "\n"
      ]
    },
    {
      "cell_type": "markdown",
      "metadata": {
        "id": "GoPOxchdk_YS",
        "colab_type": "text"
      },
      "source": [
        "#  Analizando o dataset"
      ]
    },
    {
      "cell_type": "code",
      "metadata": {
        "id": "RYFgMqeHdcuq",
        "colab_type": "code",
        "colab": {}
      },
      "source": [
        "#importando as bibliotecas\n",
        "import tensorflow as tf\n",
        "import os\n",
        "from tqdm import tqdm_notebook as tqdm\n",
        "import cv2\n",
        "import numpy as np\n",
        "import matplotlib.pyplot as plt\n",
        "import random"
      ],
      "execution_count": 0,
      "outputs": []
    },
    {
      "cell_type": "code",
      "metadata": {
        "id": "PQzH5D7FkeuW",
        "colab_type": "code",
        "colab": {
          "base_uri": "https://localhost:8080/",
          "height": 119
        },
        "outputId": "5039b414-b210-4b80-80fb-e500c6d082b8"
      },
      "source": [
        "os.listdir('drive/My Drive/dogs-vs-cats-1')"
      ],
      "execution_count": 5,
      "outputs": [
        {
          "output_type": "execute_result",
          "data": {
            "text/plain": [
              "['sampleSubmission.csv',\n",
              " 'test1.zip',\n",
              " 'train.zip',\n",
              " 'test1',\n",
              " '.ipynb_checkpoints',\n",
              " 'train']"
            ]
          },
          "metadata": {
            "tags": []
          },
          "execution_count": 5
        }
      ]
    },
    {
      "cell_type": "code",
      "metadata": {
        "id": "39-Wuoti1WX_",
        "colab_type": "code",
        "outputId": "ec357d94-f793-4f94-caac-08d56491906b",
        "colab": {
          "base_uri": "https://localhost:8080/",
          "height": 303
        }
      },
      "source": [
        "caminho_data = 'drive/My Drive/dogs-vs-cats-1/train/' # Caminho das imagens de cães e gatos\n",
        "data_pasta = os.listdir(caminho_data) # Criando uma lista com o nome das imagens\n",
        "img = plt.imread(caminho_data+data_pasta[23000]) # Lendo uma imagem do dataset\n",
        "plt.imshow(img) # Plotando uma imagem da base de dados\n",
        "print(img.shape) # Dimensões da imagem\n",
        "print(len(data_pasta)) # A quantidate de"
      ],
      "execution_count": 8,
      "outputs": [
        {
          "output_type": "stream",
          "text": [
            "(485, 321, 3)\n",
            "25000\n"
          ],
          "name": "stdout"
        },
        {
          "output_type": "display_data",
          "data": {
            "image/png": "[encoded data removed]",
            "text/plain": [
              "<Figure size 432x288 with 1 Axes>"
            ]
          },
          "metadata": {
            "tags": [],
            "needs_background": "light"
          }
        }
      ]
    },
    {
      "cell_type": "markdown",
      "metadata": {
        "id": "qVFop-ERlTWY",
        "colab_type": "text"
      },
      "source": [
        "# Carregando e pré processando a base de dados"
      ]
    },
    {
      "cell_type": "code",
      "metadata": {
        "id": "iXzWil0FncsY",
        "colab_type": "code",
        "outputId": "74cb38ee-5988-44e4-bd12-625c8deeefb6",
        "colab": {
          "base_uri": "https://localhost:8080/",
          "height": 120,
          "referenced_widgets": [
            "4ebff570a8a343a7aed0660d764cbf97",
            "2428ad8553f049c08cf6a5d6b3562f0d",
            "1054600cb192465d9ece7be7d61344c1",
            "da1b5864b775476aa99b70e6a674519f",
            "dc3fbefb0f754b2aa67815c3ab332a32",
            "87f343bd31414cd3937eb6ff749e73a8",
            "bdc3fb9b10f142e5914d9c430cf1b683",
            "0ee0f6bf59944a94bd1178a7f1698006"
          ]
        }
      },
      "source": [
        "x_train = [] # Imagens de treinamento\n",
        "x_test = []  # Imagens de teste\n",
        "y_train = [] # Labels de treinamento\n",
        "y_test = [] # Labels de teste\n",
        "data_pasta = random.sample(data_pasta, len(data_pasta)) # Embaralhar diretorio das imagens\n",
        "cont_train = 0 # controlar o percetual da qunatidade de imagens de treino e teste\n",
        "cont_test = 0\n",
        "img_size = 150\n",
        "for i in tqdm(data_pasta):\n",
        "  nome_img = i.split('.')[0] # Pegando o nome da imagem (cat,dog)\n",
        "  img = cv2.imread(caminho_data+i,0)\n",
        "  img = cv2.resize(img,(img_size,img_size))# \n",
        "  img = img.astype('float32')/255 #\n",
        "  \n",
        "  if cont_train < 2000: # 70% para treino\n",
        "    if (nome_img == \"cat\"): # se nome for cat\n",
        "        x_train.append(img)\n",
        "        y_train.append(0)\n",
        "    else: # se nome for dog\n",
        "        x_train.append(img)\n",
        "        y_train.append(1)\n",
        "    cont_train += 1\n",
        "  \n",
        "  elif cont_test < 600: # 30% para teste\n",
        "      if (nome_img == \"cat\"): # se nome for cat\n",
        "        x_train.append(img)\n",
        "        y_train.append(0)\n",
        "      else: # se nome for dog\n",
        "        x_train.append(img)\n",
        "        y_train.append(1)\n",
        "      cont_test += 1\n",
        "  if cont_train == 2000 and cont_test == 600:  # para a leitura\n",
        "    break\n"
      ],
      "execution_count": 11,
      "outputs": [
        {
          "output_type": "stream",
          "text": [
            "/usr/local/lib/python3.6/dist-packages/ipykernel_launcher.py:9: TqdmDeprecationWarning: This function will be removed in tqdm==5.0.0\n",
            "Please use `tqdm.notebook.tqdm` instead of `tqdm.tqdm_notebook`\n",
            "  if __name__ == '__main__':\n"
          ],
          "name": "stderr"
        },
        {
          "output_type": "display_data",
          "data": {
            "application/vnd.jupyter.widget-view+json": {
              "model_id": "4ebff570a8a343a7aed0660d764cbf97",
              "version_minor": 0,
              "version_major": 2
            },
            "text/plain": [
              "HBox(children=(IntProgress(value=0, max=25000), HTML(value='')))"
            ]
          },
          "metadata": {
            "tags": []
          }
        }
      ]
    },
    {
      "cell_type": "markdown",
      "metadata": {
        "id": "3mzJcv6wnF0V",
        "colab_type": "text"
      },
      "source": [
        "# Criando a arquitetura da CNN"
      ]
    },
    {
      "cell_type": "code",
      "metadata": {
        "id": "GETY-SM-nYKW",
        "colab_type": "code",
        "colab": {}
      },
      "source": [
        "model = tf.keras.models.Sequential() # Definindo um modelo sequencial do Tensorflow\n",
        "input_shape = (150,150, 1) # Pegando o formado das imagens para a CNN (150, 150, 1)\n",
        "model.add(tf.keras.layers.Conv2D(filters = 32, kernel_size=3, activation = 'relu', input_shape= input_shape)) # Primeira camada de convolução\n",
        "model.add(tf.keras.layers.Conv2D(filters = 32, kernel_size=3, activation = 'relu')) # Segunda camada de convolução\n",
        "model.add(tf.keras.layers.MaxPool2D(pool_size=2, strides =2)) # Camada de Pool\n",
        "\n",
        "model.add(tf.keras.layers.Conv2D(filters = 64, kernel_size=3, activation = 'relu')) # Terceira camada de convolução\n",
        "model.add(tf.keras.layers.Conv2D(filters = 64, kernel_size=3, activation = 'relu')) # Quarta camada de convolução\n",
        "model.add(tf.keras.layers.MaxPool2D(pool_size=2, strides =2)) # Camada de Pool"
      ],
      "execution_count": 0,
      "outputs": []
    },
    {
      "cell_type": "markdown",
      "metadata": {
        "id": "WoiaDRrM1IJe",
        "colab_type": "text"
      },
      "source": [
        "# Covolução 2D"
      ]
    },
    {
      "cell_type": "code",
      "metadata": {
        "id": "RosxMqW-0Okr",
        "colab_type": "code",
        "colab": {
          "base_uri": "https://localhost:8080/",
          "height": 471
        },
        "outputId": "8381206e-3337-49fc-c600-eb2c54da1341"
      },
      "source": [
        "Image(url= \"https://i.pinimg.com/originals/1e/0b/f3/1e0bf3ad7d8ab1f70e42afa07c7c7d0c.gif\", width=600, height=450)"
      ],
      "execution_count": 20,
      "outputs": [
        {
          "output_type": "execute_result",
          "data": {
            "text/html": [
              "<img src=\"https://i.pinimg.com/originals/1e/0b/f3/1e0bf3ad7d8ab1f70e42afa07c7c7d0c.gif\" width=\"600\" height=\"450\"/>"
            ],
            "text/plain": [
              "<IPython.core.display.Image object>"
            ]
          },
          "metadata": {
            "tags": []
          },
          "execution_count": 20
        }
      ]
    },
    {
      "cell_type": "markdown",
      "metadata": {
        "id": "vUzNN7eX1VvZ",
        "colab_type": "text"
      },
      "source": [
        "# Camada de Pool"
      ]
    },
    {
      "cell_type": "code",
      "metadata": {
        "id": "RS-5vu_K1aLx",
        "colab_type": "code",
        "colab": {
          "base_uri": "https://localhost:8080/",
          "height": 371
        },
        "outputId": "e9166242-0ddd-4ddd-86b6-ce5524ee8f82"
      },
      "source": [
        "Image(url= \"https://miro.medium.com/max/1456/1*WvHC5bKyrHa7Wm3ca-pXtg.gif\", width=600, height=350)"
      ],
      "execution_count": 22,
      "outputs": [
        {
          "output_type": "execute_result",
          "data": {
            "text/html": [
              "<img src=\"https://miro.medium.com/max/1456/1*WvHC5bKyrHa7Wm3ca-pXtg.gif\" width=\"600\" height=\"350\"/>"
            ],
            "text/plain": [
              "<IPython.core.display.Image object>"
            ]
          },
          "metadata": {
            "tags": []
          },
          "execution_count": 22
        }
      ]
    },
    {
      "cell_type": "markdown",
      "metadata": {
        "id": "rekftPmknDm0",
        "colab_type": "text"
      },
      "source": [
        ""
      ]
    }
  ]
}