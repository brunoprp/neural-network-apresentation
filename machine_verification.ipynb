{
  "nbformat": 4,
  "nbformat_minor": 0,
  "metadata": {
    "colab": {
      "name": "machine-verification.ipynb",
      "provenance": [],
      "authorship_tag": "ABX9TyMD0zaBwKkTxXU8A0HhdIJQ",
      "include_colab_link": true
    },
    "kernelspec": {
      "name": "python3",
      "display_name": "Python 3"
    }
  },
  "cells": [
    {
      "cell_type": "markdown",
      "metadata": {
        "id": "view-in-github",
        "colab_type": "text"
      },
      "source": [
        "<a href=\"https://colab.research.google.com/github/brunoprp/neural-network-apresentation/blob/master/machine_verification.ipynb\" target=\"_parent\"><img src=\"https://colab.research.google.com/assets/colab-badge.svg\" alt=\"Open In Colab\"/></a>"
      ]
    },
    {
      "cell_type": "code",
      "metadata": {
        "id": "8qgLLF8IaKDR",
        "colab_type": "code",
        "colab": {}
      },
      "source": [
        "!apt-get install inxi"
      ],
      "execution_count": 0,
      "outputs": []
    },
    {
      "cell_type": "code",
      "metadata": {
        "id": "8C--yGhhaQnL",
        "colab_type": "code",
        "colab": {}
      },
      "source": [
        "!inxi -F"
      ],
      "execution_count": 0,
      "outputs": []
    }
  ]
}